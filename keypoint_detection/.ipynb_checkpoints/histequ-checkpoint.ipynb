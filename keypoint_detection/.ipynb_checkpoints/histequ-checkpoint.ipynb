{
 "cells": [
  {
   "cell_type": "code",
   "execution_count": 15,
   "metadata": {},
   "outputs": [
    {
     "ename": "NameError",
     "evalue": "name 'im' is not defined",
     "output_type": "error",
     "traceback": [
      "\u001b[0;31m---------------------------------------------------------------------------\u001b[0m",
      "\u001b[0;31mNameError\u001b[0m                                 Traceback (most recent call last)",
      "\u001b[0;32m<ipython-input-15-9cf170b56899>\u001b[0m in \u001b[0;36m<module>\u001b[0;34m()\u001b[0m\n\u001b[1;32m     79\u001b[0m     \u001b[0mppp\u001b[0m \u001b[0;34m=\u001b[0m \u001b[0mImage\u001b[0m\u001b[0;34m.\u001b[0m\u001b[0mopen\u001b[0m\u001b[0;34m(\u001b[0m\u001b[0;34m'./sample_image/pe.png'\u001b[0m\u001b[0;34m,\u001b[0m\u001b[0;34m'r'\u001b[0m\u001b[0;34m)\u001b[0m\u001b[0;34m\u001b[0m\u001b[0m\n\u001b[1;32m     80\u001b[0m     \u001b[0mhis_equ\u001b[0m\u001b[0;34m(\u001b[0m\u001b[0mppp\u001b[0m\u001b[0;34m,\u001b[0m\u001b[0;34m'lena_his.jpg'\u001b[0m\u001b[0;34m)\u001b[0m\u001b[0;34m\u001b[0m\u001b[0m\n\u001b[0;32m---> 81\u001b[0;31m     \u001b[0mim\u001b[0m\u001b[0;34m.\u001b[0m\u001b[0mshow\u001b[0m\u001b[0;34m(\u001b[0m\u001b[0;34m'lena_his.jpg'\u001b[0m\u001b[0;34m)\u001b[0m\u001b[0;34m\u001b[0m\u001b[0m\n\u001b[0m",
      "\u001b[0;31mNameError\u001b[0m: name 'im' is not defined"
     ]
    }
   ],
   "source": [
    "from PIL import Image\n",
    "from collections import Counter\n",
    "import matplotlib.pyplot as plt\n",
    "def his_equ(img, outfile,level=256,mode='RGB'):\n",
    "    '''\n",
    "\n",
    "    :param img: Image.open打开的文件句柄\n",
    "    :param outfile: 输出文件的文件名\n",
    "    :param level:灰度等级，彩色图是每个通道对应的等级数\n",
    "    :param mode:'rgb'为彩色模式，'gray'为灰度图\n",
    "    :return: 按照输出文件路径保存均衡化之后的图片\n",
    "    '''\n",
    "    if mode == 'RGB' or mode == 'rgb':\n",
    "        r, g, b = [], [], []\n",
    "        width, height = img.size[0], img.size[1]\n",
    "        sum_pix = width * height\n",
    "        pix = img.load()\n",
    "        for x in range(width):\n",
    "            for y in range(height):\n",
    "                r.append(pix[x, y][0])\n",
    "                g.append(pix[x, y][1])\n",
    "                b.append(pix[x, y][2])\n",
    "        r_c = dict(Counter(r))\n",
    "        g_c = dict(Counter(g))\n",
    "        b_c = dict(Counter(b))\n",
    "        r_p,g_p,b_p = [],[],[]\n",
    "\n",
    "        for i in range(level):\n",
    "            if r_c.has_key(i):\n",
    "                r_p.append(float(r_c[i]) / sum_pix)\n",
    "            else:\n",
    "                r_p.append(0)\n",
    "            if g_c.has_key(i):\n",
    "                g_p.append(float(g_c[i])/sum_pix)\n",
    "            else:\n",
    "                g_p.append(0)\n",
    "            if b_c.has_key(i):\n",
    "                b_p.append(float(b_c[i])/sum_pix)\n",
    "            else:\n",
    "                b_p.append(0)\n",
    "        temp_r,temp_g,temp_b = 0,0,0\n",
    "        for i in range(level):\n",
    "            temp_r += r_p[i]\n",
    "            r_p[i] = int(temp_r * (level-1))\n",
    "            temp_b += b_p[i]\n",
    "            b_p[i] = int(temp_b *(level-1))\n",
    "            temp_g += g_p[i]\n",
    "            g_p[i] = int(temp_g*(level -1))\n",
    "        new_photo = Image.new('RGB',(width,height))\n",
    "        for x in range(width):\n",
    "            for y in range(height):\n",
    "                new_photo.putpixel((x,y),(r_p[pix[x,y][0]],g_p[pix[x,y][1]],b_p[pix[x,y][2]]))\n",
    "        new_photo.save(outfile)\n",
    "    elif mode == 'gray' or mode == 'GRAY':\n",
    "        width, height = img.size[0], img.size[1]\n",
    "        sum_pix = width * height\n",
    "        pix = img.load()\n",
    "        pb = []\n",
    "        for x in range(width):\n",
    "            for y in range(height):\n",
    "                pb.append(pix[x,y])\n",
    "        pc = dict(Counter(pb))\n",
    "        pb = []\n",
    "        for i in range(level):\n",
    "            if pc.has_key(i):\n",
    "                pb.append(float(pc[i]) / sum_pix)\n",
    "            else:\n",
    "                pb.append(0)\n",
    "        temp = 0\n",
    "        for i in range(level):\n",
    "            temp += pb[i]\n",
    "            pb[i] = int(temp * (level-1))\n",
    "        new_photo = Image.new('L',(width,height))\n",
    "        for x in range(width):\n",
    "            for y in range(height):\n",
    "                new_photo.putpixel((x,y),pb[pix[x,y]])\n",
    "        new_photo.save(outfile)\n",
    "if __name__ == '__main__':\n",
    "   \n",
    "    ppp = Image.open('./sample_image/pe.png','r')\n",
    "    his_equ(ppp,'lena_his.jpg')\n",
    "    plt.imshow('lena_his.jpg')"
   ]
  },
  {
   "cell_type": "code",
   "execution_count": null,
   "metadata": {
    "collapsed": true
   },
   "outputs": [],
   "source": []
  },
  {
   "cell_type": "code",
   "execution_count": null,
   "metadata": {
    "collapsed": true
   },
   "outputs": [],
   "source": []
  }
 ],
 "metadata": {
  "kernelspec": {
   "display_name": "Python 2",
   "language": "python",
   "name": "python2"
  },
  "language_info": {
   "codemirror_mode": {
    "name": "ipython",
    "version": 2
   },
   "file_extension": ".py",
   "mimetype": "text/x-python",
   "name": "python",
   "nbconvert_exporter": "python",
   "pygments_lexer": "ipython2",
   "version": "2.7.12"
  }
 },
 "nbformat": 4,
 "nbformat_minor": 2
}
